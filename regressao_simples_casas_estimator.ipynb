{
 "cells": [
  {
   "cell_type": "code",
   "execution_count": 2,
   "metadata": {},
   "outputs": [
    {
     "data": {
      "text/html": [
       "<div>\n",
       "<style scoped>\n",
       "    .dataframe tbody tr th:only-of-type {\n",
       "        vertical-align: middle;\n",
       "    }\n",
       "\n",
       "    .dataframe tbody tr th {\n",
       "        vertical-align: top;\n",
       "    }\n",
       "\n",
       "    .dataframe thead th {\n",
       "        text-align: right;\n",
       "    }\n",
       "</style>\n",
       "<table border=\"1\" class=\"dataframe\">\n",
       "  <thead>\n",
       "    <tr style=\"text-align: right;\">\n",
       "      <th></th>\n",
       "      <th>id</th>\n",
       "      <th>date</th>\n",
       "      <th>price</th>\n",
       "      <th>bedrooms</th>\n",
       "      <th>bathrooms</th>\n",
       "      <th>sqft_living</th>\n",
       "      <th>sqft_lot</th>\n",
       "      <th>floors</th>\n",
       "      <th>waterfront</th>\n",
       "      <th>view</th>\n",
       "      <th>...</th>\n",
       "      <th>grade</th>\n",
       "      <th>sqft_above</th>\n",
       "      <th>sqft_basement</th>\n",
       "      <th>yr_built</th>\n",
       "      <th>yr_renovated</th>\n",
       "      <th>zipcode</th>\n",
       "      <th>lat</th>\n",
       "      <th>long</th>\n",
       "      <th>sqft_living15</th>\n",
       "      <th>sqft_lot15</th>\n",
       "    </tr>\n",
       "  </thead>\n",
       "  <tbody>\n",
       "    <tr>\n",
       "      <th>0</th>\n",
       "      <td>7129300520</td>\n",
       "      <td>20141013T000000</td>\n",
       "      <td>221900.0</td>\n",
       "      <td>3</td>\n",
       "      <td>1.00</td>\n",
       "      <td>1180</td>\n",
       "      <td>5650</td>\n",
       "      <td>1.0</td>\n",
       "      <td>0</td>\n",
       "      <td>0</td>\n",
       "      <td>...</td>\n",
       "      <td>7</td>\n",
       "      <td>1180</td>\n",
       "      <td>0</td>\n",
       "      <td>1955</td>\n",
       "      <td>0</td>\n",
       "      <td>98178</td>\n",
       "      <td>47.5112</td>\n",
       "      <td>-122.257</td>\n",
       "      <td>1340</td>\n",
       "      <td>5650</td>\n",
       "    </tr>\n",
       "    <tr>\n",
       "      <th>1</th>\n",
       "      <td>6414100192</td>\n",
       "      <td>20141209T000000</td>\n",
       "      <td>538000.0</td>\n",
       "      <td>3</td>\n",
       "      <td>2.25</td>\n",
       "      <td>2570</td>\n",
       "      <td>7242</td>\n",
       "      <td>2.0</td>\n",
       "      <td>0</td>\n",
       "      <td>0</td>\n",
       "      <td>...</td>\n",
       "      <td>7</td>\n",
       "      <td>2170</td>\n",
       "      <td>400</td>\n",
       "      <td>1951</td>\n",
       "      <td>1991</td>\n",
       "      <td>98125</td>\n",
       "      <td>47.7210</td>\n",
       "      <td>-122.319</td>\n",
       "      <td>1690</td>\n",
       "      <td>7639</td>\n",
       "    </tr>\n",
       "    <tr>\n",
       "      <th>2</th>\n",
       "      <td>5631500400</td>\n",
       "      <td>20150225T000000</td>\n",
       "      <td>180000.0</td>\n",
       "      <td>2</td>\n",
       "      <td>1.00</td>\n",
       "      <td>770</td>\n",
       "      <td>10000</td>\n",
       "      <td>1.0</td>\n",
       "      <td>0</td>\n",
       "      <td>0</td>\n",
       "      <td>...</td>\n",
       "      <td>6</td>\n",
       "      <td>770</td>\n",
       "      <td>0</td>\n",
       "      <td>1933</td>\n",
       "      <td>0</td>\n",
       "      <td>98028</td>\n",
       "      <td>47.7379</td>\n",
       "      <td>-122.233</td>\n",
       "      <td>2720</td>\n",
       "      <td>8062</td>\n",
       "    </tr>\n",
       "    <tr>\n",
       "      <th>3</th>\n",
       "      <td>2487200875</td>\n",
       "      <td>20141209T000000</td>\n",
       "      <td>604000.0</td>\n",
       "      <td>4</td>\n",
       "      <td>3.00</td>\n",
       "      <td>1960</td>\n",
       "      <td>5000</td>\n",
       "      <td>1.0</td>\n",
       "      <td>0</td>\n",
       "      <td>0</td>\n",
       "      <td>...</td>\n",
       "      <td>7</td>\n",
       "      <td>1050</td>\n",
       "      <td>910</td>\n",
       "      <td>1965</td>\n",
       "      <td>0</td>\n",
       "      <td>98136</td>\n",
       "      <td>47.5208</td>\n",
       "      <td>-122.393</td>\n",
       "      <td>1360</td>\n",
       "      <td>5000</td>\n",
       "    </tr>\n",
       "    <tr>\n",
       "      <th>4</th>\n",
       "      <td>1954400510</td>\n",
       "      <td>20150218T000000</td>\n",
       "      <td>510000.0</td>\n",
       "      <td>3</td>\n",
       "      <td>2.00</td>\n",
       "      <td>1680</td>\n",
       "      <td>8080</td>\n",
       "      <td>1.0</td>\n",
       "      <td>0</td>\n",
       "      <td>0</td>\n",
       "      <td>...</td>\n",
       "      <td>8</td>\n",
       "      <td>1680</td>\n",
       "      <td>0</td>\n",
       "      <td>1987</td>\n",
       "      <td>0</td>\n",
       "      <td>98074</td>\n",
       "      <td>47.6168</td>\n",
       "      <td>-122.045</td>\n",
       "      <td>1800</td>\n",
       "      <td>7503</td>\n",
       "    </tr>\n",
       "  </tbody>\n",
       "</table>\n",
       "<p>5 rows × 21 columns</p>\n",
       "</div>"
      ],
      "text/plain": [
       "           id             date     price  bedrooms  bathrooms  sqft_living  \\\n",
       "0  7129300520  20141013T000000  221900.0         3       1.00         1180   \n",
       "1  6414100192  20141209T000000  538000.0         3       2.25         2570   \n",
       "2  5631500400  20150225T000000  180000.0         2       1.00          770   \n",
       "3  2487200875  20141209T000000  604000.0         4       3.00         1960   \n",
       "4  1954400510  20150218T000000  510000.0         3       2.00         1680   \n",
       "\n",
       "   sqft_lot  floors  waterfront  view  ...  grade  sqft_above  sqft_basement  \\\n",
       "0      5650     1.0           0     0  ...      7        1180              0   \n",
       "1      7242     2.0           0     0  ...      7        2170            400   \n",
       "2     10000     1.0           0     0  ...      6         770              0   \n",
       "3      5000     1.0           0     0  ...      7        1050            910   \n",
       "4      8080     1.0           0     0  ...      8        1680              0   \n",
       "\n",
       "   yr_built  yr_renovated  zipcode      lat     long  sqft_living15  \\\n",
       "0      1955             0    98178  47.5112 -122.257           1340   \n",
       "1      1951          1991    98125  47.7210 -122.319           1690   \n",
       "2      1933             0    98028  47.7379 -122.233           2720   \n",
       "3      1965             0    98136  47.5208 -122.393           1360   \n",
       "4      1987             0    98074  47.6168 -122.045           1800   \n",
       "\n",
       "   sqft_lot15  \n",
       "0        5650  \n",
       "1        7639  \n",
       "2        8062  \n",
       "3        5000  \n",
       "4        7503  \n",
       "\n",
       "[5 rows x 21 columns]"
      ]
     },
     "execution_count": 2,
     "metadata": {},
     "output_type": "execute_result"
    }
   ],
   "source": [
    "import pandas as pd\n",
    "base = pd.read_csv('house_prices.csv')\n",
    "base.head()"
   ]
  },
  {
   "cell_type": "code",
   "execution_count": 3,
   "metadata": {},
   "outputs": [
    {
     "data": {
      "text/plain": [
       "(21613, 21)"
      ]
     },
     "execution_count": 3,
     "metadata": {},
     "output_type": "execute_result"
    }
   ],
   "source": [
    "base.shape"
   ]
  },
  {
   "cell_type": "code",
   "execution_count": 4,
   "metadata": {},
   "outputs": [],
   "source": [
    "X = base.iloc[:, 5:6].values\n",
    "y = base.iloc[:, 2:3].values"
   ]
  },
  {
   "cell_type": "code",
   "execution_count": 5,
   "metadata": {},
   "outputs": [
    {
     "data": {
      "text/plain": [
       "array([[1180],\n",
       "       [2570],\n",
       "       [ 770],\n",
       "       ...,\n",
       "       [1020],\n",
       "       [1600],\n",
       "       [1020]])"
      ]
     },
     "execution_count": 5,
     "metadata": {},
     "output_type": "execute_result"
    }
   ],
   "source": [
    "X"
   ]
  },
  {
   "cell_type": "code",
   "execution_count": 6,
   "metadata": {},
   "outputs": [
    {
     "data": {
      "text/plain": [
       "array([[221900.],\n",
       "       [538000.],\n",
       "       [180000.],\n",
       "       ...,\n",
       "       [402101.],\n",
       "       [400000.],\n",
       "       [325000.]])"
      ]
     },
     "execution_count": 6,
     "metadata": {},
     "output_type": "execute_result"
    }
   ],
   "source": [
    "y"
   ]
  },
  {
   "cell_type": "code",
   "execution_count": 7,
   "metadata": {},
   "outputs": [],
   "source": [
    "from sklearn.preprocessing import StandardScaler\n",
    "scaler_x = StandardScaler()\n",
    "X = scaler_x.fit_transform(X)\n",
    "scaler_y = StandardScaler()\n",
    "y = scaler_y.fit_transform(y)"
   ]
  },
  {
   "cell_type": "code",
   "execution_count": 8,
   "metadata": {},
   "outputs": [
    {
     "data": {
      "text/plain": [
       "array([[-0.97983502],\n",
       "       [ 0.53363434],\n",
       "       [-1.42625404],\n",
       "       ...,\n",
       "       [-1.15404732],\n",
       "       [-0.52252773],\n",
       "       [-1.15404732]])"
      ]
     },
     "execution_count": 8,
     "metadata": {},
     "output_type": "execute_result"
    }
   ],
   "source": [
    "X"
   ]
  },
  {
   "cell_type": "code",
   "execution_count": 9,
   "metadata": {},
   "outputs": [
    {
     "data": {
      "text/plain": [
       "array([[-0.86671733],\n",
       "       [-0.00568792],\n",
       "       [-0.98084935],\n",
       "       ...,\n",
       "       [-0.37586519],\n",
       "       [-0.38158814],\n",
       "       [-0.58588173]])"
      ]
     },
     "execution_count": 9,
     "metadata": {},
     "output_type": "execute_result"
    }
   ],
   "source": [
    "y"
   ]
  },
  {
   "cell_type": "code",
   "execution_count": 10,
   "metadata": {},
   "outputs": [
    {
     "name": "stdout",
     "output_type": "stream",
     "text": [
      "WARNING:tensorflow:From /home/jorge/anaconda3/lib/python3.8/site-packages/tensorflow/python/compat/v2_compat.py:96: disable_resource_variables (from tensorflow.python.ops.variable_scope) is deprecated and will be removed in a future version.\n",
      "Instructions for updating:\n",
      "non-resource variables are not supported in the long term\n"
     ]
    }
   ],
   "source": [
    "import tensorflow.compat.v1 as tf\n",
    "tf.disable_v2_behavior()"
   ]
  },
  {
   "cell_type": "code",
   "execution_count": 11,
   "metadata": {},
   "outputs": [],
   "source": [
    "colunas = [tf.feature_column.numeric_column('x', shape = [1])]"
   ]
  },
  {
   "cell_type": "code",
   "execution_count": 12,
   "metadata": {},
   "outputs": [
    {
     "data": {
      "text/plain": [
       "[NumericColumn(key='x', shape=(1,), default_value=None, dtype=tf.float32, normalizer_fn=None)]"
      ]
     },
     "execution_count": 12,
     "metadata": {},
     "output_type": "execute_result"
    }
   ],
   "source": [
    "colunas"
   ]
  },
  {
   "cell_type": "code",
   "execution_count": 13,
   "metadata": {},
   "outputs": [
    {
     "name": "stdout",
     "output_type": "stream",
     "text": [
      "INFO:tensorflow:Using default config.\n",
      "WARNING:tensorflow:Using temporary folder as model directory: /tmp/tmpu9scjcgu\n",
      "INFO:tensorflow:Using config: {'_model_dir': '/tmp/tmpu9scjcgu', '_tf_random_seed': None, '_save_summary_steps': 100, '_save_checkpoints_steps': None, '_save_checkpoints_secs': 600, '_session_config': allow_soft_placement: true\n",
      "graph_options {\n",
      "  rewrite_options {\n",
      "    meta_optimizer_iterations: ONE\n",
      "  }\n",
      "}\n",
      ", '_keep_checkpoint_max': 5, '_keep_checkpoint_every_n_hours': 10000, '_log_step_count_steps': 100, '_train_distribute': None, '_device_fn': None, '_protocol': None, '_eval_distribute': None, '_experimental_distribute': None, '_experimental_max_worker_delay_secs': None, '_session_creation_timeout_secs': 7200, '_service': None, '_cluster_spec': ClusterSpec({}), '_task_type': 'worker', '_task_id': 0, '_global_id_in_cluster': 0, '_master': '', '_evaluation_master': '', '_is_chief': True, '_num_ps_replicas': 0, '_num_worker_replicas': 1}\n"
     ]
    }
   ],
   "source": [
    "regressor = tf.estimator.LinearRegressor(feature_columns=colunas)"
   ]
  },
  {
   "cell_type": "code",
   "execution_count": 14,
   "metadata": {},
   "outputs": [],
   "source": [
    "from sklearn.model_selection import train_test_split\n",
    "X_treinamento, X_teste, y_treinamento, y_teste = train_test_split(X, y, test_size = 0.3)"
   ]
  },
  {
   "cell_type": "code",
   "execution_count": 15,
   "metadata": {},
   "outputs": [
    {
     "data": {
      "text/plain": [
       "(15129, 1)"
      ]
     },
     "execution_count": 15,
     "metadata": {},
     "output_type": "execute_result"
    }
   ],
   "source": [
    "X_treinamento.shape"
   ]
  },
  {
   "cell_type": "code",
   "execution_count": 16,
   "metadata": {},
   "outputs": [
    {
     "data": {
      "text/plain": [
       "(15129, 1)"
      ]
     },
     "execution_count": 16,
     "metadata": {},
     "output_type": "execute_result"
    }
   ],
   "source": [
    "y_treinamento.shape"
   ]
  },
  {
   "cell_type": "code",
   "execution_count": 17,
   "metadata": {},
   "outputs": [
    {
     "data": {
      "text/plain": [
       "(6484, 1)"
      ]
     },
     "execution_count": 17,
     "metadata": {},
     "output_type": "execute_result"
    }
   ],
   "source": [
    "X_teste.shape"
   ]
  },
  {
   "cell_type": "code",
   "execution_count": 18,
   "metadata": {},
   "outputs": [
    {
     "data": {
      "text/plain": [
       "(6484, 1)"
      ]
     },
     "execution_count": 18,
     "metadata": {},
     "output_type": "execute_result"
    }
   ],
   "source": [
    "y_teste.shape"
   ]
  },
  {
   "cell_type": "code",
   "execution_count": 19,
   "metadata": {},
   "outputs": [],
   "source": [
    "funcao_treinamento = tf.estimator.inputs.numpy_input_fn({'x': X_treinamento}, y_treinamento,\n",
    "                                                        batch_size = 32, num_epochs = None, \n",
    "                                                        shuffle = True)"
   ]
  },
  {
   "cell_type": "code",
   "execution_count": 20,
   "metadata": {},
   "outputs": [],
   "source": [
    "funcao_teste = tf.estimator.inputs.numpy_input_fn({'x': X_teste}, y_teste, batch_size = 32, \n",
    "                                                  num_epochs = 1000, shuffle = False)"
   ]
  },
  {
   "cell_type": "code",
   "execution_count": 21,
   "metadata": {},
   "outputs": [
    {
     "name": "stdout",
     "output_type": "stream",
     "text": [
      "WARNING:tensorflow:From /home/jorge/anaconda3/lib/python3.8/site-packages/tensorflow/python/training/training_util.py:235: Variable.initialized_value (from tensorflow.python.ops.variables) is deprecated and will be removed in a future version.\n",
      "Instructions for updating:\n",
      "Use Variable.read_value. Variables in 2.X are initialized automatically both in eager and graph (inside tf.defun) contexts.\n",
      "WARNING:tensorflow:From /home/jorge/anaconda3/lib/python3.8/site-packages/tensorflow_estimator/python/estimator/inputs/queues/feeding_queue_runner.py:60: QueueRunner.__init__ (from tensorflow.python.training.queue_runner_impl) is deprecated and will be removed in a future version.\n",
      "Instructions for updating:\n",
      "To construct input pipelines, use the `tf.data` module.\n",
      "WARNING:tensorflow:From /home/jorge/anaconda3/lib/python3.8/site-packages/tensorflow_estimator/python/estimator/inputs/queues/feeding_functions.py:491: add_queue_runner (from tensorflow.python.training.queue_runner_impl) is deprecated and will be removed in a future version.\n",
      "Instructions for updating:\n",
      "To construct input pipelines, use the `tf.data` module.\n",
      "INFO:tensorflow:Calling model_fn.\n",
      "WARNING:tensorflow:From /home/jorge/anaconda3/lib/python3.8/site-packages/tensorflow/python/ops/resource_variable_ops.py:1659: calling BaseResourceVariable.__init__ (from tensorflow.python.ops.resource_variable_ops) with constraint is deprecated and will be removed in a future version.\n",
      "Instructions for updating:\n",
      "If using Keras pass *_constraint arguments to layers.\n",
      "WARNING:tensorflow:From /home/jorge/anaconda3/lib/python3.8/site-packages/tensorflow/python/feature_column/feature_column_v2.py:530: Layer.add_variable (from tensorflow.python.keras.engine.base_layer_v1) is deprecated and will be removed in a future version.\n",
      "Instructions for updating:\n",
      "Please use `layer.add_weight` method instead.\n",
      "INFO:tensorflow:Done calling model_fn.\n",
      "INFO:tensorflow:Create CheckpointSaverHook.\n",
      "INFO:tensorflow:Graph was finalized.\n",
      "INFO:tensorflow:Running local_init_op.\n",
      "INFO:tensorflow:Done running local_init_op.\n",
      "WARNING:tensorflow:From /home/jorge/anaconda3/lib/python3.8/site-packages/tensorflow/python/training/monitored_session.py:906: start_queue_runners (from tensorflow.python.training.queue_runner_impl) is deprecated and will be removed in a future version.\n",
      "Instructions for updating:\n",
      "To construct input pipelines, use the `tf.data` module.\n",
      "INFO:tensorflow:Calling checkpoint listeners before saving checkpoint 0...\n",
      "INFO:tensorflow:Saving checkpoints for 0 into /tmp/tmpu9scjcgu/model.ckpt.\n",
      "INFO:tensorflow:Calling checkpoint listeners after saving checkpoint 0...\n",
      "INFO:tensorflow:loss = 13.151669, step = 1\n",
      "INFO:tensorflow:global_step/sec: 516.322\n",
      "INFO:tensorflow:loss = 16.263079, step = 101 (0.195 sec)\n",
      "INFO:tensorflow:global_step/sec: 594.615\n",
      "INFO:tensorflow:loss = 15.226973, step = 201 (0.174 sec)\n",
      "WARNING:tensorflow:It seems that global step (tf.train.get_global_step) has not been increased. Current value (could be stable): 207 vs previous value: 207. You could increase the global step by passing tf.train.get_global_step() to Optimizer.apply_gradients or Optimizer.minimize.\n",
      "WARNING:tensorflow:It seems that global step (tf.train.get_global_step) has not been increased. Current value (could be stable): 216 vs previous value: 216. You could increase the global step by passing tf.train.get_global_step() to Optimizer.apply_gradients or Optimizer.minimize.\n",
      "WARNING:tensorflow:It seems that global step (tf.train.get_global_step) has not been increased. Current value (could be stable): 230 vs previous value: 230. You could increase the global step by passing tf.train.get_global_step() to Optimizer.apply_gradients or Optimizer.minimize.\n",
      "INFO:tensorflow:global_step/sec: 476.257\n",
      "INFO:tensorflow:loss = 7.0868254, step = 301 (0.207 sec)\n",
      "INFO:tensorflow:global_step/sec: 675.424\n",
      "INFO:tensorflow:loss = 10.600794, step = 401 (0.148 sec)\n",
      "WARNING:tensorflow:It seems that global step (tf.train.get_global_step) has not been increased. Current value (could be stable): 424 vs previous value: 424. You could increase the global step by passing tf.train.get_global_step() to Optimizer.apply_gradients or Optimizer.minimize.\n",
      "WARNING:tensorflow:It seems that global step (tf.train.get_global_step) has not been increased. Current value (could be stable): 428 vs previous value: 428. You could increase the global step by passing tf.train.get_global_step() to Optimizer.apply_gradients or Optimizer.minimize.\n",
      "INFO:tensorflow:global_step/sec: 537.443\n",
      "INFO:tensorflow:loss = 13.842348, step = 501 (0.185 sec)\n",
      "INFO:tensorflow:global_step/sec: 670.349\n",
      "INFO:tensorflow:loss = 7.5202446, step = 601 (0.150 sec)\n",
      "INFO:tensorflow:global_step/sec: 635.98\n",
      "INFO:tensorflow:loss = 20.710995, step = 701 (0.155 sec)\n",
      "INFO:tensorflow:global_step/sec: 730.471\n",
      "INFO:tensorflow:loss = 19.796242, step = 801 (0.149 sec)\n",
      "INFO:tensorflow:global_step/sec: 668.255\n",
      "INFO:tensorflow:loss = 6.2869477, step = 901 (0.140 sec)\n",
      "INFO:tensorflow:global_step/sec: 894.762\n",
      "INFO:tensorflow:loss = 9.955954, step = 1001 (0.109 sec)\n",
      "INFO:tensorflow:global_step/sec: 570.449\n",
      "INFO:tensorflow:loss = 6.1525717, step = 1101 (0.181 sec)\n",
      "INFO:tensorflow:global_step/sec: 424.337\n",
      "INFO:tensorflow:loss = 7.5266795, step = 1201 (0.232 sec)\n",
      "INFO:tensorflow:global_step/sec: 336.747\n",
      "INFO:tensorflow:loss = 37.02826, step = 1301 (0.296 sec)\n",
      "INFO:tensorflow:global_step/sec: 459.905\n",
      "INFO:tensorflow:loss = 12.067963, step = 1401 (0.217 sec)\n",
      "INFO:tensorflow:global_step/sec: 615.309\n",
      "INFO:tensorflow:loss = 12.9967, step = 1501 (0.162 sec)\n",
      "INFO:tensorflow:global_step/sec: 397.25\n",
      "INFO:tensorflow:loss = 13.528265, step = 1601 (0.254 sec)\n",
      "INFO:tensorflow:global_step/sec: 430.525\n",
      "INFO:tensorflow:loss = 16.990536, step = 1701 (0.233 sec)\n",
      "INFO:tensorflow:global_step/sec: 421.019\n",
      "INFO:tensorflow:loss = 6.115878, step = 1801 (0.235 sec)\n",
      "INFO:tensorflow:global_step/sec: 744.629\n",
      "INFO:tensorflow:loss = 10.910839, step = 1901 (0.134 sec)\n",
      "INFO:tensorflow:global_step/sec: 306.757\n",
      "INFO:tensorflow:loss = 16.727604, step = 2001 (0.326 sec)\n",
      "INFO:tensorflow:global_step/sec: 642.687\n",
      "INFO:tensorflow:loss = 5.24051, step = 2101 (0.157 sec)\n",
      "INFO:tensorflow:global_step/sec: 605.916\n",
      "INFO:tensorflow:loss = 14.270112, step = 2201 (0.163 sec)\n",
      "INFO:tensorflow:global_step/sec: 639.506\n",
      "INFO:tensorflow:loss = 11.84646, step = 2301 (0.157 sec)\n",
      "INFO:tensorflow:global_step/sec: 586.05\n",
      "INFO:tensorflow:loss = 11.386474, step = 2401 (0.171 sec)\n",
      "INFO:tensorflow:global_step/sec: 530.218\n",
      "INFO:tensorflow:loss = 41.08121, step = 2501 (0.191 sec)\n",
      "INFO:tensorflow:global_step/sec: 539.365\n",
      "INFO:tensorflow:loss = 14.9964695, step = 2601 (0.185 sec)\n",
      "INFO:tensorflow:global_step/sec: 332.349\n",
      "INFO:tensorflow:loss = 9.121979, step = 2701 (0.301 sec)\n",
      "INFO:tensorflow:global_step/sec: 385.077\n",
      "INFO:tensorflow:loss = 17.774584, step = 2801 (0.260 sec)\n",
      "INFO:tensorflow:global_step/sec: 556.286\n",
      "INFO:tensorflow:loss = 8.533348, step = 2901 (0.179 sec)\n",
      "INFO:tensorflow:global_step/sec: 720.433\n",
      "INFO:tensorflow:loss = 15.23271, step = 3001 (0.139 sec)\n",
      "INFO:tensorflow:global_step/sec: 339.524\n",
      "INFO:tensorflow:loss = 8.3929405, step = 3101 (0.295 sec)\n",
      "INFO:tensorflow:global_step/sec: 602.924\n",
      "INFO:tensorflow:loss = 6.8102612, step = 3201 (0.166 sec)\n",
      "INFO:tensorflow:global_step/sec: 546.778\n",
      "INFO:tensorflow:loss = 9.448389, step = 3301 (0.183 sec)\n",
      "INFO:tensorflow:global_step/sec: 664.345\n",
      "INFO:tensorflow:loss = 12.329971, step = 3401 (0.151 sec)\n",
      "INFO:tensorflow:global_step/sec: 651.689\n",
      "INFO:tensorflow:loss = 31.47904, step = 3501 (0.153 sec)\n",
      "INFO:tensorflow:global_step/sec: 446.44\n",
      "INFO:tensorflow:loss = 6.9646935, step = 3601 (0.224 sec)\n",
      "INFO:tensorflow:global_step/sec: 539.814\n",
      "INFO:tensorflow:loss = 13.579061, step = 3701 (0.185 sec)\n",
      "INFO:tensorflow:global_step/sec: 627.121\n",
      "INFO:tensorflow:loss = 10.121857, step = 3801 (0.159 sec)\n",
      "INFO:tensorflow:global_step/sec: 654.769\n",
      "INFO:tensorflow:loss = 12.883538, step = 3901 (0.153 sec)\n",
      "INFO:tensorflow:global_step/sec: 572.69\n",
      "INFO:tensorflow:loss = 49.2288, step = 4001 (0.175 sec)\n",
      "INFO:tensorflow:global_step/sec: 669.132\n",
      "INFO:tensorflow:loss = 49.87378, step = 4101 (0.150 sec)\n",
      "INFO:tensorflow:global_step/sec: 388.263\n",
      "INFO:tensorflow:loss = 5.307452, step = 4201 (0.258 sec)\n"
     ]
    },
    {
     "name": "stdout",
     "output_type": "stream",
     "text": [
      "INFO:tensorflow:global_step/sec: 558.912\n",
      "INFO:tensorflow:loss = 5.9233627, step = 4301 (0.178 sec)\n",
      "INFO:tensorflow:global_step/sec: 683.433\n",
      "INFO:tensorflow:loss = 15.236843, step = 4401 (0.146 sec)\n",
      "INFO:tensorflow:global_step/sec: 673.511\n",
      "INFO:tensorflow:loss = 12.510292, step = 4501 (0.148 sec)\n",
      "INFO:tensorflow:global_step/sec: 665.358\n",
      "INFO:tensorflow:loss = 6.5164833, step = 4601 (0.151 sec)\n",
      "INFO:tensorflow:global_step/sec: 660.725\n",
      "INFO:tensorflow:loss = 69.013214, step = 4701 (0.151 sec)\n",
      "INFO:tensorflow:global_step/sec: 622.453\n",
      "INFO:tensorflow:loss = 9.5343075, step = 4801 (0.161 sec)\n",
      "INFO:tensorflow:global_step/sec: 291.197\n",
      "INFO:tensorflow:loss = 10.346997, step = 4901 (0.346 sec)\n",
      "INFO:tensorflow:global_step/sec: 539.033\n",
      "INFO:tensorflow:loss = 23.586597, step = 5001 (0.180 sec)\n",
      "INFO:tensorflow:global_step/sec: 454.803\n",
      "INFO:tensorflow:loss = 13.249838, step = 5101 (0.222 sec)\n",
      "INFO:tensorflow:global_step/sec: 684.113\n",
      "INFO:tensorflow:loss = 9.64073, step = 5201 (0.145 sec)\n",
      "INFO:tensorflow:global_step/sec: 588.436\n",
      "INFO:tensorflow:loss = 7.4119215, step = 5301 (0.169 sec)\n",
      "INFO:tensorflow:global_step/sec: 626.664\n",
      "INFO:tensorflow:loss = 12.144793, step = 5401 (0.160 sec)\n",
      "INFO:tensorflow:global_step/sec: 416.32\n",
      "INFO:tensorflow:loss = 7.4545074, step = 5501 (0.240 sec)\n",
      "INFO:tensorflow:global_step/sec: 519.478\n",
      "INFO:tensorflow:loss = 18.020536, step = 5601 (0.193 sec)\n",
      "INFO:tensorflow:global_step/sec: 702.556\n",
      "INFO:tensorflow:loss = 17.0141, step = 5701 (0.142 sec)\n",
      "INFO:tensorflow:global_step/sec: 709.958\n",
      "INFO:tensorflow:loss = 6.711146, step = 5801 (0.141 sec)\n",
      "INFO:tensorflow:global_step/sec: 627.158\n",
      "INFO:tensorflow:loss = 17.836456, step = 5901 (0.159 sec)\n",
      "INFO:tensorflow:global_step/sec: 779.821\n",
      "INFO:tensorflow:loss = 10.016506, step = 6001 (0.128 sec)\n",
      "INFO:tensorflow:global_step/sec: 814.426\n",
      "INFO:tensorflow:loss = 16.728855, step = 6101 (0.123 sec)\n",
      "INFO:tensorflow:global_step/sec: 571.566\n",
      "INFO:tensorflow:loss = 7.319541, step = 6201 (0.176 sec)\n",
      "INFO:tensorflow:global_step/sec: 618.151\n",
      "INFO:tensorflow:loss = 26.489882, step = 6301 (0.163 sec)\n",
      "INFO:tensorflow:global_step/sec: 420.512\n",
      "INFO:tensorflow:loss = 22.330385, step = 6401 (0.239 sec)\n",
      "INFO:tensorflow:global_step/sec: 407.565\n",
      "INFO:tensorflow:loss = 9.012653, step = 6501 (0.245 sec)\n",
      "INFO:tensorflow:global_step/sec: 690.391\n",
      "INFO:tensorflow:loss = 12.815191, step = 6601 (0.145 sec)\n",
      "INFO:tensorflow:global_step/sec: 531.28\n",
      "INFO:tensorflow:loss = 12.483103, step = 6701 (0.188 sec)\n",
      "INFO:tensorflow:global_step/sec: 555.845\n",
      "INFO:tensorflow:loss = 22.34124, step = 6801 (0.178 sec)\n",
      "INFO:tensorflow:global_step/sec: 422.907\n",
      "INFO:tensorflow:loss = 15.114683, step = 6901 (0.237 sec)\n",
      "INFO:tensorflow:global_step/sec: 717.285\n",
      "INFO:tensorflow:loss = 21.378822, step = 7001 (0.139 sec)\n",
      "INFO:tensorflow:global_step/sec: 709.602\n",
      "INFO:tensorflow:loss = 11.433557, step = 7101 (0.141 sec)\n",
      "INFO:tensorflow:global_step/sec: 369.809\n",
      "INFO:tensorflow:loss = 51.429737, step = 7201 (0.270 sec)\n",
      "INFO:tensorflow:global_step/sec: 720.062\n",
      "INFO:tensorflow:loss = 11.68419, step = 7301 (0.139 sec)\n",
      "INFO:tensorflow:global_step/sec: 717.613\n",
      "INFO:tensorflow:loss = 8.901127, step = 7401 (0.139 sec)\n",
      "INFO:tensorflow:global_step/sec: 588.979\n",
      "INFO:tensorflow:loss = 10.74481, step = 7501 (0.170 sec)\n",
      "INFO:tensorflow:global_step/sec: 554.785\n",
      "INFO:tensorflow:loss = 7.937547, step = 7601 (0.180 sec)\n",
      "INFO:tensorflow:global_step/sec: 442.401\n",
      "INFO:tensorflow:loss = 14.652074, step = 7701 (0.228 sec)\n",
      "INFO:tensorflow:global_step/sec: 532.217\n",
      "INFO:tensorflow:loss = 29.265804, step = 7801 (0.187 sec)\n",
      "INFO:tensorflow:global_step/sec: 702.667\n",
      "INFO:tensorflow:loss = 9.998681, step = 7901 (0.142 sec)\n",
      "INFO:tensorflow:global_step/sec: 674.667\n",
      "INFO:tensorflow:loss = 23.384258, step = 8001 (0.148 sec)\n",
      "INFO:tensorflow:global_step/sec: 404.979\n",
      "INFO:tensorflow:loss = 25.87944, step = 8101 (0.247 sec)\n",
      "INFO:tensorflow:global_step/sec: 528.637\n",
      "INFO:tensorflow:loss = 6.39174, step = 8201 (0.189 sec)\n",
      "INFO:tensorflow:global_step/sec: 395.058\n",
      "INFO:tensorflow:loss = 19.841291, step = 8301 (0.253 sec)\n",
      "INFO:tensorflow:global_step/sec: 196.184\n",
      "INFO:tensorflow:loss = 6.7234154, step = 8401 (0.509 sec)\n",
      "INFO:tensorflow:global_step/sec: 310.805\n",
      "INFO:tensorflow:loss = 10.041229, step = 8501 (0.320 sec)\n",
      "INFO:tensorflow:global_step/sec: 400.213\n",
      "INFO:tensorflow:loss = 30.617868, step = 8601 (0.250 sec)\n",
      "INFO:tensorflow:global_step/sec: 635.4\n",
      "INFO:tensorflow:loss = 8.493696, step = 8701 (0.160 sec)\n",
      "INFO:tensorflow:global_step/sec: 490.032\n",
      "INFO:tensorflow:loss = 14.31556, step = 8801 (0.202 sec)\n",
      "INFO:tensorflow:global_step/sec: 350.409\n",
      "INFO:tensorflow:loss = 11.941658, step = 8901 (0.287 sec)\n",
      "INFO:tensorflow:global_step/sec: 582.48\n",
      "INFO:tensorflow:loss = 37.669273, step = 9001 (0.172 sec)\n",
      "INFO:tensorflow:global_step/sec: 448.274\n",
      "INFO:tensorflow:loss = 12.401019, step = 9101 (0.224 sec)\n",
      "INFO:tensorflow:global_step/sec: 483.927\n",
      "INFO:tensorflow:loss = 9.064603, step = 9201 (0.207 sec)\n",
      "INFO:tensorflow:global_step/sec: 453.17\n",
      "INFO:tensorflow:loss = 8.918093, step = 9301 (0.218 sec)\n",
      "INFO:tensorflow:global_step/sec: 418.007\n",
      "INFO:tensorflow:loss = 27.294844, step = 9401 (0.241 sec)\n",
      "INFO:tensorflow:global_step/sec: 323.783\n",
      "INFO:tensorflow:loss = 15.997226, step = 9501 (0.309 sec)\n",
      "INFO:tensorflow:global_step/sec: 519.051\n",
      "INFO:tensorflow:loss = 25.6148, step = 9601 (0.193 sec)\n",
      "INFO:tensorflow:global_step/sec: 653.433\n",
      "INFO:tensorflow:loss = 7.707556, step = 9701 (0.152 sec)\n",
      "INFO:tensorflow:global_step/sec: 571.535\n",
      "INFO:tensorflow:loss = 6.8587146, step = 9801 (0.174 sec)\n",
      "INFO:tensorflow:global_step/sec: 610.539\n",
      "INFO:tensorflow:loss = 34.933025, step = 9901 (0.164 sec)\n",
      "INFO:tensorflow:Calling checkpoint listeners before saving checkpoint 10000...\n",
      "INFO:tensorflow:Saving checkpoints for 10000 into /tmp/tmpu9scjcgu/model.ckpt.\n",
      "INFO:tensorflow:Calling checkpoint listeners after saving checkpoint 10000...\n",
      "INFO:tensorflow:Loss for final step: 11.162989.\n"
     ]
    },
    {
     "data": {
      "text/plain": [
       "<tensorflow_estimator.python.estimator.canned.linear.LinearRegressor at 0x7fd5bc4c63d0>"
      ]
     },
     "execution_count": 21,
     "metadata": {},
     "output_type": "execute_result"
    }
   ],
   "source": [
    "regressor.train(input_fn = funcao_treinamento, steps = 10000)"
   ]
  },
  {
   "cell_type": "code",
   "execution_count": 22,
   "metadata": {},
   "outputs": [
    {
     "name": "stdout",
     "output_type": "stream",
     "text": [
      "INFO:tensorflow:Calling model_fn.\n",
      "INFO:tensorflow:Done calling model_fn.\n",
      "INFO:tensorflow:Starting evaluation at 2020-08-22T10:33:41Z\n",
      "INFO:tensorflow:Graph was finalized.\n",
      "INFO:tensorflow:Restoring parameters from /tmp/tmpu9scjcgu/model.ckpt-10000\n",
      "INFO:tensorflow:Running local_init_op.\n",
      "INFO:tensorflow:Done running local_init_op.\n",
      "INFO:tensorflow:Evaluation [1000/10000]\n",
      "INFO:tensorflow:Evaluation [2000/10000]\n",
      "INFO:tensorflow:Evaluation [3000/10000]\n",
      "INFO:tensorflow:Evaluation [4000/10000]\n",
      "INFO:tensorflow:Evaluation [5000/10000]\n",
      "INFO:tensorflow:Evaluation [6000/10000]\n",
      "INFO:tensorflow:Evaluation [7000/10000]\n",
      "INFO:tensorflow:Evaluation [8000/10000]\n",
      "INFO:tensorflow:Evaluation [9000/10000]\n",
      "INFO:tensorflow:Evaluation [10000/10000]\n",
      "INFO:tensorflow:Inference Time : 13.42131s\n",
      "INFO:tensorflow:Finished evaluation at 2020-08-22-10:33:54\n",
      "INFO:tensorflow:Saving dict for global step 10000: average_loss = 0.5143933, global_step = 10000, label/mean = -0.0031915088, loss = 16.460587, prediction/mean = 1.182927e-05\n",
      "INFO:tensorflow:Saving 'checkpoint_path' summary for global step 10000: /tmp/tmpu9scjcgu/model.ckpt-10000\n"
     ]
    }
   ],
   "source": [
    "metricas_treinamento = regressor.evaluate(input_fn = funcao_treinamento, steps = 10000)"
   ]
  },
  {
   "cell_type": "code",
   "execution_count": null,
   "metadata": {},
   "outputs": [
    {
     "name": "stdout",
     "output_type": "stream",
     "text": [
      "INFO:tensorflow:Calling model_fn.\n",
      "INFO:tensorflow:Done calling model_fn.\n",
      "INFO:tensorflow:Starting evaluation at 2020-08-22T10:34:10Z\n",
      "INFO:tensorflow:Graph was finalized.\n",
      "INFO:tensorflow:Restoring parameters from /tmp/tmpu9scjcgu/model.ckpt-10000\n",
      "INFO:tensorflow:Running local_init_op.\n",
      "INFO:tensorflow:Done running local_init_op.\n",
      "INFO:tensorflow:Evaluation [1000/10000]\n",
      "INFO:tensorflow:Evaluation [2000/10000]\n",
      "INFO:tensorflow:Evaluation [3000/10000]\n",
      "INFO:tensorflow:Evaluation [4000/10000]\n",
      "INFO:tensorflow:Evaluation [5000/10000]\n",
      "INFO:tensorflow:Evaluation [6000/10000]\n"
     ]
    }
   ],
   "source": [
    "metricas_teste = regressor.evaluate(input_fn = funcao_teste, steps = 10000)"
   ]
  },
  {
   "cell_type": "code",
   "execution_count": null,
   "metadata": {},
   "outputs": [],
   "source": [
    "metricas_treinamento"
   ]
  },
  {
   "cell_type": "code",
   "execution_count": null,
   "metadata": {},
   "outputs": [],
   "source": [
    "metricas_teste"
   ]
  },
  {
   "cell_type": "code",
   "execution_count": null,
   "metadata": {},
   "outputs": [],
   "source": [
    "import numpy as np\n",
    "novas_casas = np.array([[800], [900], [1000]])\n",
    "novas_casas"
   ]
  },
  {
   "cell_type": "code",
   "execution_count": null,
   "metadata": {},
   "outputs": [],
   "source": [
    "novas_casas = scaler_x.transform(novas_casas)\n",
    "novas_casas"
   ]
  },
  {
   "cell_type": "code",
   "execution_count": null,
   "metadata": {},
   "outputs": [],
   "source": [
    "funcao_previsao = tf.estimator.inputs.numpy_input_fn({'x': novas_casas}, shuffle = False)"
   ]
  },
  {
   "cell_type": "code",
   "execution_count": null,
   "metadata": {},
   "outputs": [],
   "source": [
    "previsoes = regressor.predict(input_fn = funcao_previsao)"
   ]
  },
  {
   "cell_type": "code",
   "execution_count": null,
   "metadata": {},
   "outputs": [],
   "source": [
    "previsoes"
   ]
  },
  {
   "cell_type": "code",
   "execution_count": null,
   "metadata": {},
   "outputs": [],
   "source": [
    "list(previsoes)"
   ]
  },
  {
   "cell_type": "code",
   "execution_count": null,
   "metadata": {},
   "outputs": [],
   "source": [
    "for p in regressor.predict(input_fn = funcao_previsao):\n",
    "    #print(p['predictions'])\n",
    "    print(scaler_y.inverse_transform(p['predictions']))"
   ]
  }
 ],
 "metadata": {
  "kernelspec": {
   "display_name": "Python 3",
   "language": "python",
   "name": "python3"
  },
  "language_info": {
   "codemirror_mode": {
    "name": "ipython",
    "version": 3
   },
   "file_extension": ".py",
   "mimetype": "text/x-python",
   "name": "python",
   "nbconvert_exporter": "python",
   "pygments_lexer": "ipython3",
   "version": "3.8.3"
  }
 },
 "nbformat": 4,
 "nbformat_minor": 2
}
